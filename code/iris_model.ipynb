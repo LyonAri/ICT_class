{
 "cells": [
  {
   "cell_type": "code",
   "execution_count": 1,
   "metadata": {},
   "outputs": [],
   "source": [
    "import pandas as pd\n",
    "import numpy as np\n",
    "import pickle\n",
    "import seaborn as sns\n",
    "from sklearn.preprocessing import LabelEncoder\n",
    "\n",
    "import os"
   ]
  },
  {
   "cell_type": "code",
   "execution_count": 2,
   "metadata": {},
   "outputs": [
    {
     "name": "stdout",
     "output_type": "stream",
     "text": [
      "C:\\Users\\user\\ict_class\n",
      "(150, 6)\n",
      "Index(['Id', 'SepalLengthCm', 'SepalWidthCm', 'PetalLengthCm', 'PetalWidthCm',\n",
      "       'Species'],\n",
      "      dtype='object')\n"
     ]
    }
   ],
   "source": [
    "print(os.getcwd())\n",
    "path=\"C:\\\\Users\\\\user\\\\ict_class\\\\kaggle4th_flask_ml\\\\iris_flask_test\\\\\"\n",
    "\n",
    "df = pd.read_csv(path + \"data\\\\iris.csv\")\n",
    "print(df.shape)\n",
    "print(df.columns)"
   ]
  },
  {
   "cell_type": "code",
   "execution_count": 3,
   "metadata": {},
   "outputs": [
    {
     "name": "stdout",
     "output_type": "stream",
     "text": [
      "   Id  SepalLengthCm  SepalWidthCm  PetalLengthCm  PetalWidthCm      Species  \\\n",
      "0   1            5.1           3.5            1.4           0.2  Iris-setosa   \n",
      "1   2            4.9           3.0            1.4           0.2  Iris-setosa   \n",
      "2   3            4.7           3.2            1.3           0.2  Iris-setosa   \n",
      "3   4            4.6           3.1            1.5           0.2  Iris-setosa   \n",
      "4   5            5.0           3.6            1.4           0.2  Iris-setosa   \n",
      "\n",
      "   target  \n",
      "0       0  \n",
      "1       0  \n",
      "2       0  \n",
      "3       0  \n",
      "4       0  \n"
     ]
    }
   ],
   "source": [
    "# 라벨 인코딩\n",
    "df.loc[ df['Species']=='Iris-setosa', 'target'] = 0\n",
    "df.loc[ df['Species']=='Iris-versicolor', 'target'] = 1\n",
    "df.loc[ df['Species']=='Iris-virginica', 'target'] = 2\n",
    "df['target'] = df['target'].astype(\"int\")\n",
    "\n",
    "print(df.head())"
   ]
  },
  {
   "cell_type": "code",
   "execution_count": 4,
   "metadata": {},
   "outputs": [],
   "source": [
    "from sklearn.ensemble import RandomForestClassifier\n",
    "from sklearn.ensemble import GradientBoostingClassifier\n",
    "\n",
    "from sklearn.model_selection import train_test_split\n",
    "from sklearn.model_selection import cross_val_score"
   ]
  },
  {
   "cell_type": "code",
   "execution_count": 5,
   "metadata": {},
   "outputs": [
    {
     "name": "stdout",
     "output_type": "stream",
     "text": [
      "(112, 4) (38, 4) (112,) (38,)\n"
     ]
    }
   ],
   "source": [
    "# 데이터 선택\n",
    "sel = ['SepalLengthCm', 'SepalWidthCm', 'PetalLengthCm', 'PetalWidthCm']\n",
    "X = df[sel]\n",
    "y = df['target']\n",
    "\n",
    "X_train, X_test, y_train, y_test = train_test_split(X, y, random_state=42)\n",
    "\n",
    "print(X_train.shape, X_test.shape, y_train.shape, y_test.shape)"
   ]
  },
  {
   "cell_type": "code",
   "execution_count": 7,
   "metadata": {},
   "outputs": [
    {
     "name": "stdout",
     "output_type": "stream",
     "text": [
      "교차 검증 점수(AUC) - rf :  1.0\n"
     ]
    }
   ],
   "source": [
    "model_rf = RandomForestClassifier(random_state=30).fit(X_train, y_train)\n",
    "score = cross_val_score(model_rf, X_test, y_test, cv=5, scoring='accuracy')\n",
    "print(\"교차 검증 점수(AUC) - rf : \", np.mean(score))"
   ]
  },
  {
   "cell_type": "code",
   "execution_count": 8,
   "metadata": {},
   "outputs": [
    {
     "name": "stdout",
     "output_type": "stream",
     "text": [
      "교차 검증 점수(AUC) - gd :  0.975\n"
     ]
    }
   ],
   "source": [
    "model_gd = GradientBoostingClassifier(random_state=30).fit(X_train, y_train)\n",
    "score = cross_val_score(model_gd, X_test, y_test, cv=5, scoring='accuracy')\n",
    "print(\"교차 검증 점수(AUC) - gd : \", np.mean(score))"
   ]
  }
 ],
 "metadata": {
  "kernelspec": {
   "display_name": "Python 3",
   "language": "python",
   "name": "python3"
  },
  "language_info": {
   "codemirror_mode": {
    "name": "ipython",
    "version": 3
   },
   "file_extension": ".py",
   "mimetype": "text/x-python",
   "name": "python",
   "nbconvert_exporter": "python",
   "pygments_lexer": "ipython3",
   "version": "3.8.5"
  }
 },
 "nbformat": 4,
 "nbformat_minor": 4
}
