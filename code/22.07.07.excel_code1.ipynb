{
 "cells": [
  {
   "cell_type": "code",
   "execution_count": 68,
   "metadata": {},
   "outputs": [
    {
     "name": "stdout",
     "output_type": "stream",
     "text": [
      "openpyxl Ver :  3.0.5\n"
     ]
    }
   ],
   "source": [
    "import openpyxl as oxl\n",
    "\n",
    "print(\"openpyxl Ver : \", oxl.__version__)"
   ]
  },
  {
   "cell_type": "code",
   "execution_count": 69,
   "metadata": {},
   "outputs": [],
   "source": [
    "#새 워크북 생성\n",
    "from openpyxl import Workbook"
   ]
  },
  {
   "cell_type": "code",
   "execution_count": 70,
   "metadata": {},
   "outputs": [
    {
     "name": "stdout",
     "output_type": "stream",
     "text": [
      "<class 'openpyxl.workbook.workbook.Workbook'>\n",
      "['Sheet']\n",
      "<Worksheet \"Sheet\">\n"
     ]
    }
   ],
   "source": [
    "#워크북 만들기\n",
    "wb = Workbook()\n",
    "\n",
    "print(type(wb))\n",
    "\n",
    "#기본적으로 시트는 하나 생성\n",
    "print(wb.sheetnames)\n",
    "\n",
    "#활성화된 시트 확인\n",
    "print(wb.active)"
   ]
  },
  {
   "cell_type": "code",
   "execution_count": 71,
   "metadata": {},
   "outputs": [
    {
     "name": "stdout",
     "output_type": "stream",
     "text": [
      "['Sheet', 'Sheet1']\n",
      "<Worksheet \"Sheet\">\n"
     ]
    }
   ],
   "source": [
    "#시트추가\n",
    "ws1=wb.create_sheet(\"Sheet1\")\n",
    "\n",
    "print(wb.sheetnames)\n",
    "print(wb.active)"
   ]
  },
  {
   "cell_type": "code",
   "execution_count": 72,
   "metadata": {},
   "outputs": [
    {
     "name": "stdout",
     "output_type": "stream",
     "text": [
      "['Sheet', 'Sheet1', 'Sheet2']\n"
     ]
    }
   ],
   "source": [
    "#시트 추가\n",
    "ws2=wb.create_sheet(\"Sheet2\")\n",
    "\n",
    "print(wb.sheetnames)"
   ]
  },
  {
   "cell_type": "code",
   "execution_count": 73,
   "metadata": {},
   "outputs": [
    {
     "name": "stdout",
     "output_type": "stream",
     "text": [
      "['Sheet', 'Sheet0', 'Sheet1', 'Sheet2']\n",
      "<Worksheet \"Sheet\">\n"
     ]
    }
   ],
   "source": [
    "#시트0을 사이에 넣을 때\n",
    "ws3=wb.create_sheet(\"Sheet0\", 1)\n",
    "\n",
    "print(wb.sheetnames)\n",
    "print(wb.active)"
   ]
  },
  {
   "cell_type": "code",
   "execution_count": 74,
   "metadata": {},
   "outputs": [
    {
     "name": "stdout",
     "output_type": "stream",
     "text": [
      "['Sheet', '두번째시트', 'Sheet1', 'Sheet2']\n"
     ]
    }
   ],
   "source": [
    "#시트이름 변경\n",
    "new_ws2=wb['Sheet0']\n",
    "new_ws2.title=\"두번째시트\"\n",
    "\n",
    "print(wb.sheetnames)"
   ]
  },
  {
   "cell_type": "code",
   "execution_count": 75,
   "metadata": {},
   "outputs": [
    {
     "name": "stdout",
     "output_type": "stream",
     "text": [
      "['Sheet', '두번째시트', 'Sheet1', '네번째시트']\n"
     ]
    }
   ],
   "source": [
    "new_ws2=wb['Sheet2']\n",
    "new_ws2.title=\"네번째시트\"\n",
    "\n",
    "print(wb.sheetnames)"
   ]
  },
  {
   "cell_type": "code",
   "execution_count": 76,
   "metadata": {},
   "outputs": [],
   "source": [
    "new_ws2['A1']='이름'\n",
    "new_ws2['B1']='전화번호'\n",
    "\n",
    "new_ws2['A2']='홍길동'\n",
    "new_ws2['B2']='02-302-3333'"
   ]
  },
  {
   "cell_type": "code",
   "execution_count": 77,
   "metadata": {},
   "outputs": [
    {
     "data": {
      "text/plain": [
       "<Cell '네번째시트'.B3>"
      ]
     },
     "execution_count": 77,
     "metadata": {},
     "output_type": "execute_result"
    }
   ],
   "source": [
    "new_ws2.cell(row=3, column=1, value='김길동')\n",
    "new_ws2.cell(row=3, column=2, value='010-222-3334')"
   ]
  },
  {
   "cell_type": "code",
   "execution_count": 78,
   "metadata": {},
   "outputs": [
    {
     "name": "stdout",
     "output_type": "stream",
     "text": [
      "이름\n"
     ]
    }
   ],
   "source": [
    "print(new_ws2['A1'].value)"
   ]
  },
  {
   "cell_type": "code",
   "execution_count": 79,
   "metadata": {},
   "outputs": [
    {
     "name": "stdout",
     "output_type": "stream",
     "text": [
      "김길동\n",
      "010-222-3334\n"
     ]
    }
   ],
   "source": [
    "print(new_ws2['A'][2].value)\n",
    "print(new_ws2['B'][2].value)"
   ]
  },
  {
   "cell_type": "code",
   "execution_count": 80,
   "metadata": {},
   "outputs": [
    {
     "name": "stdout",
     "output_type": "stream",
     "text": [
      "이름\n",
      "전화번호\n",
      "홍길동\n",
      "02-302-3333\n",
      "김길동\n",
      "010-222-3334\n"
     ]
    }
   ],
   "source": [
    "for i in range(0, 3, 1):\n",
    "    print(new_ws2['A'][i].value)\n",
    "    print(new_ws2['B'][i].value)"
   ]
  },
  {
   "cell_type": "code",
   "execution_count": 81,
   "metadata": {},
   "outputs": [
    {
     "name": "stdout",
     "output_type": "stream",
     "text": [
      "이름\n",
      "전화번호\n",
      "홍길동\n",
      "02-302-3333\n",
      "김길동\n",
      "010-222-3334\n",
      "박길동\n",
      "010-5252-1234\n"
     ]
    }
   ],
   "source": [
    "new_ws2.cell(row=4, column=1, value='박길동')\n",
    "new_ws2.cell(row=4, column=2, value='010-5252-1234')\n",
    "\n",
    "for i in range(0, 4, 1):\n",
    "    print(new_ws2['A'][i].value)\n",
    "    print(new_ws2['B'][i].value)"
   ]
  },
  {
   "cell_type": "code",
   "execution_count": 82,
   "metadata": {},
   "outputs": [
    {
     "data": {
      "text/plain": [
       "<Cell '네번째시트'.C4>"
      ]
     },
     "execution_count": 82,
     "metadata": {},
     "output_type": "execute_result"
    }
   ],
   "source": [
    "new_ws2['C1']='주소'\n",
    "\n",
    "new_ws2.cell(row=2, column=3, value='서울')\n",
    "new_ws2.cell(row=3, column=3, value='광주')\n",
    "new_ws2.cell(row=4, column=3, value='부산')"
   ]
  },
  {
   "cell_type": "code",
   "execution_count": 83,
   "metadata": {},
   "outputs": [
    {
     "name": "stdout",
     "output_type": "stream",
     "text": [
      "이름\n",
      "전화번호\n",
      "주소\n",
      "홍길동\n",
      "02-302-3333\n",
      "서울\n",
      "김길동\n",
      "010-222-3334\n",
      "광주\n",
      "박길동\n",
      "010-5252-1234\n",
      "부산\n"
     ]
    }
   ],
   "source": [
    "for i in range(0, 4, 1):\n",
    "    print(new_ws2['A'][i].value)\n",
    "    print(new_ws2['B'][i].value)\n",
    "    print(new_ws2['C'][i].value)"
   ]
  },
  {
   "cell_type": "code",
   "execution_count": 84,
   "metadata": {},
   "outputs": [],
   "source": [
    "### 이름에 넣을 때, 10글자 이상 나오면 입력이 안되도록하기"
   ]
  },
  {
   "cell_type": "code",
   "execution_count": 85,
   "metadata": {},
   "outputs": [],
   "source": [
    "new_ws2['A5'] = ''\n",
    "new_ws2['B5'] = '02-302-3333'"
   ]
  },
  {
   "cell_type": "code",
   "execution_count": 86,
   "metadata": {},
   "outputs": [],
   "source": [
    "new_ws2['A6'] = '홍길동'\n",
    "new_ws2['B6'] = '7777777'"
   ]
  },
  {
   "cell_type": "code",
   "execution_count": 87,
   "metadata": {
    "scrolled": true
   },
   "outputs": [
    {
     "name": "stdout",
     "output_type": "stream",
     "text": [
      "['Sheet', '두번째시트', 'Sheet1', '네번째시트']\n",
      "시트명 Sheet\n"
     ]
    }
   ],
   "source": [
    "print(wb.sheetnames)\n",
    "new_ws_first = wb['Sheet']\n",
    "new_ws_first['A1'] = \"시트명\"\n",
    "new_ws_first['B1'] = 'Sheet'\n",
    "\n",
    "print(new_ws_first['A1'].value, new_ws_first['B1'].value)"
   ]
  },
  {
   "cell_type": "code",
   "execution_count": 88,
   "metadata": {},
   "outputs": [],
   "source": [
    "wb.save(\"주소록.xlsx\")"
   ]
  },
  {
   "cell_type": "code",
   "execution_count": null,
   "metadata": {},
   "outputs": [],
   "source": []
  }
 ],
 "metadata": {
  "kernelspec": {
   "display_name": "Python 3",
   "language": "python",
   "name": "python3"
  },
  "language_info": {
   "codemirror_mode": {
    "name": "ipython",
    "version": 3
   },
   "file_extension": ".py",
   "mimetype": "text/x-python",
   "name": "python",
   "nbconvert_exporter": "python",
   "pygments_lexer": "ipython3",
   "version": "3.8.5"
  }
 },
 "nbformat": 4,
 "nbformat_minor": 4
}
